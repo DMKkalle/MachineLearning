{
  "cells": [
    {
      "cell_type": "markdown",
      "metadata": {
        "id": "view-in-github",
        "colab_type": "text"
      },
      "source": [
        "<a href=\"https://colab.research.google.com/github/DMKkalle/MachineLearning/blob/main/Titanic.ipynb\" target=\"_parent\"><img src=\"https://colab.research.google.com/assets/colab-badge.svg\" alt=\"Open In Colab\"/></a>"
      ]
    },
    {
      "cell_type": "markdown",
      "metadata": {
        "id": "kOBrVokyIoq5"
      },
      "source": [
        "additional infos:\n",
        "    \n",
        "    https://scikit-learn.org/stable/modules/clustering.html#k-means"
      ]
    },
    {
      "cell_type": "code",
      "execution_count": null,
      "metadata": {
        "id": "cA61WWliIoq9"
      },
      "outputs": [],
      "source": [
        "from fastai.tabular.all import *\n",
        "\n",
        "from sklearn.datasets import load_iris\n",
        "from sklearn.metrics import ConfusionMatrixDisplay\n",
        "from sklearn.metrics import confusion_matrix\n",
        "from sklearn.metrics import classification_report\n",
        "from sklearn import tree\n",
        "from sklearn.tree import DecisionTreeClassifier, plot_tree\n",
        "from sklearn.ensemble import RandomForestClassifier\n",
        "from sklearn.model_selection import train_test_split\n",
        "\n",
        "import matplotlib.pyplot as plt\n",
        "\n",
        "import seaborn as sns\n",
        "\n",
        "import pandas as pd\n",
        "from pathlib import Path"
      ]
    },
    {
      "cell_type": "code",
      "execution_count": null,
      "metadata": {
        "id": "iO8bawUvIoq-"
      },
      "outputs": [],
      "source": [
        "# get the data and check file structure\n",
        "\n",
        "path = Path('/content/')\n",
        "print(list(path.iterdir()))\n",
        "path.ls()"
      ]
    },
    {
      "cell_type": "code",
      "execution_count": null,
      "metadata": {
        "id": "lwF293fMIoq_"
      },
      "outputs": [],
      "source": [
        "# load data in pandas and look at the first examples\n",
        "df = pd.read_csv(path/'titanic.csv')\n",
        "df.head()\n",
        "df.info()"
      ]
    },
    {
      "cell_type": "code",
      "execution_count": null,
      "metadata": {
        "tags": [],
        "id": "UJg6upovIoq_"
      },
      "outputs": [],
      "source": [
        "#definera funktioner för använding med TabularPandas\n",
        "df['age'] = pd.to_numeric(df['age'], errors='coerce') #omvandla till float\n",
        "df['fare'] = pd.to_numeric(df['fare'], errors='coerce') #omvandla till float\n",
        "df['age'] = df['age'].fillna(df['age'].median())  # Fyll saknade värden med median\n",
        "df['fare'] = df['fare'].fillna(df['fare'].median())  # Fyll saknade värden med median\n",
        "\n",
        "\n",
        "df['sex'] = df['sex'].astype('category')\n",
        "df['embarked'] = df['embarked'].astype('category')\n",
        "\n",
        "cat_names = ['pclass', 'sex', 'embarked', 'sibsp', 'parch'] #Kategoriska\n",
        "cont_names = ['age', 'fare'] #Kontinuerliga\n",
        "dep_var = 'survived' #Beroende variabel eller \"MÅLVARIABEL\"\n",
        "\n",
        "##########################################################################\n",
        "\n",
        "\n",
        "\n",
        "\n"
      ]
    },
    {
      "cell_type": "code",
      "source": [
        "#barn som individer unde 18 år\n",
        "df['is_child'] = df['age'] < 18\n",
        "\n",
        "child_survival = df.groupby('is_child')['survived'].mean()\n",
        "print(\"Survival rate for children vs adults:\")\n",
        "print(child_survival)\n",
        "\n",
        "#Hur många barn och vuxna överlevde/dog\n",
        "child_count = df.groupby(['is_child', 'survived'])['survived'].count()\n",
        "print(\"Count of children and adults:\")\n",
        "print(child_count)\n",
        "\n",
        "plt.figure(figsize=(8, 6))\n",
        "sns.barplot(x='is_child', y='survived', data=df, errorbar=None, palette='viridis')\n",
        "plt.title('Survival Rate: Children vs Adults')\n",
        "plt.xlabel('age > 18 vs age < 18')\n",
        "plt.ylabel('Survival Rate')\n",
        "plt.xticks([0,1], ['Adult', 'Child'])\n",
        "plt.show()"
      ],
      "metadata": {
        "id": "qZ-mApnB1QSP"
      },
      "execution_count": null,
      "outputs": []
    },
    {
      "cell_type": "code",
      "source": [
        "\n",
        "\n",
        "#boxplot för överlevnas baserat på familjemedmlemmar\n",
        "plt.figure(figsize=(10, 6))\n",
        "sns.barplot(x='parch', y='survived', data=df, errorbar=None, palette='viridis')\n",
        "plt.title('Survival vs. Family Members on Board')\n",
        "plt.xlabel('Number of Family Members')\n",
        "plt.ylabel('Survival Rate')\n",
        "plt.show()"
      ],
      "metadata": {
        "id": "U6_-zhEiuf6p"
      },
      "execution_count": null,
      "outputs": []
    },
    {
      "cell_type": "code",
      "source": [
        "from sklearn.cluster import KMeans\n",
        "\n",
        "X_kmeans = df[['age', 'fare']].dropna() #Använd ålder och biljettpris\n",
        "\n",
        "#Skapa K-Means-modellen\n",
        "kmeans = KMeans(n_clusters=3, random_state=421337)\n",
        "df['cluster'] = kmeans.fit_predict(X_kmeans)\n",
        "\n",
        "#Visualisera kluster\n",
        "plt.figure(figsize=(8, 6))\n",
        "sns.scatterplot(x='age', y='fare', hue='cluster', data=df, palette='viridis')\n",
        "plt.title('K-Means Clustering of Titanic Data')\n",
        "plt.xlabel('Age')\n",
        "plt.ylabel('Fare')\n",
        "plt.show()"
      ],
      "metadata": {
        "id": "zhtE9FfNhDyd"
      },
      "execution_count": null,
      "outputs": []
    },
    {
      "cell_type": "code",
      "source": [
        "# Lägg till kluster i DataFrame\n",
        "df['cluster'] = kmeans.labels_\n",
        "\n",
        "# Visa samband mellan kluster och överlevnad\n",
        "print(df.groupby(['cluster', 'survived'])['survived'].count())\n",
        "\n",
        "# Visualisera sambandet\n",
        "sns.countplot(x='cluster', hue='survived', data=df)\n",
        "plt.title('Cluster vs. Survival')\n",
        "plt.xlabel('Cluster')\n",
        "plt.ylabel('Count')\n",
        "plt.legend(['Died', 'Survived'])\n",
        "plt.show()\n"
      ],
      "metadata": {
        "id": "v8scjDhxi1Or"
      },
      "execution_count": null,
      "outputs": []
    },
    {
      "cell_type": "code",
      "source": [
        "#Konfigurera TabularPandas\n",
        "\n",
        "#Förbehandlingssteg\n",
        "procs = [Categorify, FillMissing, Normalize]\n",
        "\n",
        "#Splitta dataset i tränings och valideringsdelar\n",
        "splits = RandomSplitter(valid_pct=0.2, seed = 421337)(range_of(df))\n",
        "\n",
        "#Skapa TabulaPandas objektet\n",
        "to = TabularPandas(df, procs=procs, cat_names=cat_names, cont_names=cont_names, y_names=dep_var, splits=splits)\n",
        "to.show(5)"
      ],
      "metadata": {
        "id": "_JGPDP-rP59L"
      },
      "execution_count": null,
      "outputs": []
    },
    {
      "cell_type": "code",
      "execution_count": null,
      "metadata": {
        "id": "xC3SQ2mYIorA"
      },
      "outputs": [],
      "source": [
        "#DATALOADERS OCH TRÄNA MODELL\n",
        "#bygger en tabulär modell och träna\n",
        "dls = to.dataloaders()\n",
        "learn = tabular_learner(dls, metrics=accuracy)\n",
        "learn.fit_one_cycle(10, lr_max=1e-3) #10 epoch och lägre inlärningshastighet\n",
        "learn.show_results()\n",
        "\n",
        "\n",
        "\n"
      ]
    },
    {
      "cell_type": "code",
      "execution_count": null,
      "metadata": {
        "id": "YsWPGcOqIorA"
      },
      "outputs": [],
      "source": [
        "sns.countplot(data=df, x='sex', hue='survived')\n",
        "plt.title('Överlevnad per kön')\n",
        "plt.show()\n",
        "\n",
        "sns.barplot(data=df, x='pclass', y='survived')\n",
        "plt.title('Överlevnad per Reseklass')\n",
        "plt.show()\n",
        "\n",
        "sns.boxplot(data=df, x='survived', y='age')\n",
        "plt.title('Överlevnad per Ålder')\n",
        "plt.show()"
      ]
    },
    {
      "cell_type": "code",
      "execution_count": null,
      "metadata": {
        "id": "QN9eHs-MIorB"
      },
      "outputs": [],
      "source": [
        "results = learn.validate()\n",
        "print(f\"Validation Loss: {results[0]:.4f}, Accuracy: {results[1]:.4f}\")"
      ]
    },
    {
      "cell_type": "markdown",
      "metadata": {
        "id": "tfpaNG86IorB"
      },
      "source": [
        "Identify categorial and continous data. Last column is normally the class we want to predict"
      ]
    },
    {
      "cell_type": "code",
      "source": [
        "#skapa och träna en Decision Tree-modell\n",
        "dt_model = DecisionTreeClassifier(max_depth=3, random_state=421337)\n",
        "dt_model.fit(X_train, y_train)\n",
        "\n",
        "#visualisera beslutsträdet\n",
        "plt.figure(figsize=(12, 8))\n",
        "plot_tree(dt_model, feature_names=X.columns, class_names=['Died', 'Survived'], filled=True)\n",
        "plt.title(\"Beslutsträd för Titanic-Data\")\n",
        "plt.show()\n"
      ],
      "metadata": {
        "id": "9IOsRMkpH0XN"
      },
      "execution_count": null,
      "outputs": []
    },
    {
      "cell_type": "code",
      "source": [
        "#SKAPA OCH TRÖNA EN RANDOM FOREST-MODELL\n",
        "\n",
        "rf_model = RandomForestClassifier(n_estimators=100, random_state=421337)\n",
        "rf_model.fit(X_train, y_train)\n",
        "\n",
        "#Gör förutsägelser\n",
        "y_pred_rf = rf_model.predict(X_test)\n",
        "\n",
        "#Utvärdera RAndom Forest\n",
        "print(\"Classification Report for Random Forest:\")\n",
        "print(classification_report(y_test, y_pred_rf))\n",
        "\n",
        "#SKAPA OCH VISA CONFUSION MATRIX\n",
        "\n",
        "cm_rf = confusion_matrix(y_test, y_pred_rf)\n",
        "\n",
        "plt.figure(figsize=(8, 6))\n",
        "sns.heatmap(cm_rf, annot=True, fmt='d', cmap='Greens', xticklabels=['Died', 'Survived'], yticklabels=['Died', 'Survived'])\n",
        "plt.xlabel('Predicted')\n",
        "plt.ylabel('Actual')\n",
        "plt.title('Confusion Matrix for Random Forest')\n",
        "plt.show()\n",
        "\n",
        "\n"
      ],
      "metadata": {
        "id": "REF8OAitTZmh"
      },
      "execution_count": null,
      "outputs": []
    },
    {
      "cell_type": "code",
      "source": [
        "### Förbereda dataset för scikit-learn\n",
        "X = df[['pclass', 'sex', 'age', 'sibsp', 'parch', 'fare', 'embarked']]\n",
        "y = df['survived']\n",
        "\n",
        "#Omvandla kategoriska variabler till dummy-variabler för scikit-learn\n",
        "X = pd.get_dummies(X, columns=['sex', 'embarked'], drop_first=True)\n",
        "\n",
        "X_train, X_test, y_train, y_test = train_test_split(X, y, test_size=0.2, random_state=421337)\n"
      ],
      "metadata": {
        "id": "0MEe6SgKGXAH"
      },
      "execution_count": null,
      "outputs": []
    },
    {
      "cell_type": "code",
      "source": [
        "#UTVÄRDERA MODELLEN KLASSIFICERINGSRAPPORT OCH CONFUSIONMATRIX\n",
        "\n",
        "#Förutsägelser på testdatan\n",
        "y_pred = dt_model.predict(X_test)\n",
        "\n",
        "#KLAssificeringsrapport\n",
        "print(\"Classification Report for Decision Tree:\")\n",
        "print(classification_report(y_test, y_pred))\n",
        "\n",
        "#Confusion Matrix\n",
        "cm = confusion_matrix(y_test, y_pred)\n",
        "\n",
        "plt.figure(figsize=(8, 6))\n",
        "sns.heatmap(cm, annot=True, fmt='d', cmap='Blues', xticklabels=['Died', 'Survived'], yticklabels=['Died', 'Survived'])\n",
        "plt.xlabel('Predicted')\n",
        "plt.ylabel('Actual')\n",
        "plt.title('Confusion Matrix for Decision Tree')\n",
        "plt.show()"
      ],
      "metadata": {
        "id": "Q2NTp9bmQ5nW"
      },
      "execution_count": null,
      "outputs": []
    },
    {
      "cell_type": "markdown",
      "metadata": {
        "id": "4o08YATkIorE"
      },
      "source": [
        "# fastai Neural Network"
      ]
    },
    {
      "cell_type": "code",
      "execution_count": null,
      "metadata": {
        "id": "SjZibXIeIorG"
      },
      "outputs": [],
      "source": [
        "interp = ClassificationInterpretation.from_learner(learn)\n",
        "interp.plot_confusion_matrix()\n",
        "interp.print_classification_report()"
      ]
    },
    {
      "cell_type": "code",
      "execution_count": null,
      "metadata": {
        "tags": [],
        "id": "WFNEQc5XIorG"
      },
      "outputs": [],
      "source": [
        "row, clas, probs = learn.predict(df.iloc[0])"
      ]
    },
    {
      "cell_type": "code",
      "execution_count": null,
      "metadata": {
        "id": "6M8f6fnqIorH"
      },
      "outputs": [],
      "source": [
        "row.show()"
      ]
    },
    {
      "cell_type": "code",
      "execution_count": null,
      "metadata": {
        "id": "6XTwu9QGIorH"
      },
      "outputs": [],
      "source": [
        "clas, probs"
      ]
    },
    {
      "cell_type": "code",
      "execution_count": null,
      "metadata": {
        "id": "lWFPa4dAIorH"
      },
      "outputs": [],
      "source": [
        "test_df = df.copy()[:10]\n",
        "test_df.drop(['salary'], axis=1, inplace=True)\n",
        "dl = learn.dls.test_dl(test_df)\n",
        "\n",
        "learn.get_preds(dl=dl)"
      ]
    },
    {
      "cell_type": "code",
      "execution_count": null,
      "metadata": {
        "id": "yzz1da3hIorH"
      },
      "outputs": [],
      "source": []
    },
    {
      "cell_type": "markdown",
      "metadata": {
        "tags": [],
        "id": "WF9wG4-kIorI"
      },
      "source": [
        "# Decision Tree Learner"
      ]
    },
    {
      "cell_type": "markdown",
      "metadata": {
        "id": "1J_ntGqnIorI"
      },
      "source": [
        "see https://scikit-learn.org/stable/modules/tree.html#tree for a good explanation"
      ]
    },
    {
      "cell_type": "code",
      "execution_count": null,
      "metadata": {
        "id": "d4OBrDKEIorI"
      },
      "outputs": [],
      "source": [
        "X_train, y_train = to.train.xs, to.train.ys.values.ravel()\n",
        "X_valid, y_valid = to.valid.xs, to.valid.ys.values.ravel()"
      ]
    },
    {
      "cell_type": "code",
      "execution_count": null,
      "metadata": {
        "id": "hXCoAci1IorJ"
      },
      "outputs": [],
      "source": [
        "X_train"
      ]
    },
    {
      "cell_type": "code",
      "execution_count": null,
      "metadata": {
        "id": "PHMiSSOoIorJ"
      },
      "outputs": [],
      "source": [
        "\n",
        "\n",
        "clf = DecisionTreeClassifier(max_leaf_nodes=5, random_state=0)\n",
        "clf.fit(X_train, y_train)\n",
        "\n",
        "plt.figure(figsize=(12,16))  # set plot size (denoted in inches)\n",
        "tree.plot_tree(clf, fontsize=12, feature_names=to.x_names, class_names=to.vocab, filled=True)"
      ]
    },
    {
      "cell_type": "code",
      "execution_count": null,
      "metadata": {
        "id": "mvfzAYjhIorK"
      },
      "outputs": [],
      "source": [
        "print(classification_report(y_valid, clf.predict(X_valid), target_names=to.vocab))\n",
        "ConfusionMatrixDisplay.from_estimator(clf, X_valid, y_valid)"
      ]
    },
    {
      "cell_type": "code",
      "execution_count": null,
      "metadata": {
        "id": "8Ftu-VnWIorK"
      },
      "outputs": [],
      "source": [
        "feature_importance = pd.Series(clf.feature_importances_, index=X_train.columns) #list(zip(X_train.columns, clf.feature_importances_))\n",
        "feature_importance"
      ]
    },
    {
      "cell_type": "code",
      "execution_count": null,
      "metadata": {
        "id": "Gvdsw6W_IorL"
      },
      "outputs": [],
      "source": [
        "sns.set(rc={\"figure.figsize\":(20, 6)})\n",
        "sns.barplot(x=X_train.columns, y=clf.feature_importances_, color='C2')"
      ]
    },
    {
      "cell_type": "markdown",
      "metadata": {
        "id": "fNcH4-BwIorL"
      },
      "source": [
        "# Random Forest"
      ]
    },
    {
      "cell_type": "code",
      "execution_count": null,
      "metadata": {
        "id": "93CIRF9LIorL"
      },
      "outputs": [],
      "source": [
        "rf = RandomForestClassifier(n_estimators=100, max_depth=30)\n",
        "rf.fit(X_train, y_train)"
      ]
    },
    {
      "cell_type": "code",
      "execution_count": null,
      "metadata": {
        "id": "Avvh0HC6IorM"
      },
      "outputs": [],
      "source": [
        "print(classification_report(y_valid, rf.predict(X_valid), target_names=to.vocab))\n",
        "ConfusionMatrixDisplay.from_estimator(rf, X_valid, y_valid)"
      ]
    },
    {
      "cell_type": "code",
      "execution_count": null,
      "metadata": {
        "id": "cygi0mMcIorM"
      },
      "outputs": [],
      "source": [
        "feature_importance = pd.Series(rf.feature_importances_, index=X_train.columns).sort_values(axis=0, ascending=False)\n",
        "feature_importance"
      ]
    },
    {
      "cell_type": "code",
      "execution_count": null,
      "metadata": {
        "id": "EgD9qTzxIorM"
      },
      "outputs": [],
      "source": [
        "sns.set(rc={\"figure.figsize\":(20, 6)}) #width=3, #height=4\n",
        "sns.barplot(x=feature_importance.index, y=feature_importance, orient = \"v\", color='C1')\n",
        "# orient“v” | “h”, optional\n",
        "# sns.barplot(x = counts.index, y = counts)"
      ]
    },
    {
      "cell_type": "code",
      "execution_count": null,
      "metadata": {
        "id": "Y3vBnwpyIorN"
      },
      "outputs": [],
      "source": []
    }
  ],
  "metadata": {
    "colab": {
      "private_outputs": true,
      "provenance": [],
      "gpuType": "T4",
      "include_colab_link": true
    },
    "kernelspec": {
      "display_name": "Python 3",
      "name": "python3"
    },
    "language_info": {
      "codemirror_mode": {
        "name": "ipython",
        "version": 3
      },
      "file_extension": ".py",
      "mimetype": "text/x-python",
      "name": "python",
      "nbconvert_exporter": "python",
      "pygments_lexer": "ipython3",
      "version": "3.8.12"
    },
    "accelerator": "GPU"
  },
  "nbformat": 4,
  "nbformat_minor": 0
}